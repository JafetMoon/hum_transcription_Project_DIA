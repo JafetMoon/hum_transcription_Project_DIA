{
 "cells": [
  {
   "cell_type": "code",
   "execution_count": 10,
   "metadata": {},
   "outputs": [],
   "source": [
    "import os\n",
    "import mido\n",
    "import utils ##\n",
    "import librosa\n",
    "import numpy as np\n",
    "import pandas as pd\n",
    "import matplotlib.pyplot as plt\n",
    "import matplotlib.cm as cm\n",
    "import matplotlib.colors as mcolors"
   ]
  },
  {
   "cell_type": "markdown",
   "metadata": {},
   "source": [
    "Datos preprocesados:\n",
    "https://drive.google.com/drive/folders/1jzfK-VM_Qb76K31Y7iMpsi1JeQ7QqU5W?usp=sharing"
   ]
  },
  {
   "cell_type": "markdown",
   "metadata": {},
   "source": [
    "# Importar Datos"
   ]
  },
  {
   "cell_type": "code",
   "execution_count": 11,
   "metadata": {},
   "outputs": [],
   "source": [
    "df_midis_info = pd.read_csv('datos_procesados/midis/midis_info.csv', index_col=0)\n",
    "df_midis_notas = pd.read_csv('datos_procesados/midis/midis_notas.csv', index_col=0)"
   ]
  },
  {
   "cell_type": "code",
   "execution_count": 12,
   "metadata": {},
   "outputs": [],
   "source": [
    "# Tipos de MIDI\n",
    "df_non_standard = pd.read_csv('datos_procesados/midis/tipos/no_estandar.csv', index_col=0)\n",
    "df_standard = pd.read_csv('datos_procesados/midis/tipos/estandar.csv', index_col=0)"
   ]
  },
  {
   "cell_type": "code",
   "execution_count": 13,
   "metadata": {},
   "outputs": [],
   "source": [
    "# Usar los audios con expresión MIDI estándar\n",
    "df_midi = df_standard.merge(df_midis_info, how='left', left_index=True, right_index=True)\n",
    "df_midi = df_midi.drop(columns=['problem?'])\n",
    "df_midi = df_midi.rename({'velocity':'velocity_start'}, axis=1)\n",
    "\n",
    "df_notas = df_midis_notas.loc[df_midi.index]"
   ]
  },
  {
   "cell_type": "code",
   "execution_count": 14,
   "metadata": {},
   "outputs": [],
   "source": [
    "# Guardar la información de las muestras válidas\n",
    "df_midi.to_csv('datos_procesados/valid_samples.csv')"
   ]
  },
  {
   "cell_type": "markdown",
   "metadata": {},
   "source": [
    "# MIDIS"
   ]
  },
  {
   "cell_type": "code",
   "execution_count": 15,
   "metadata": {},
   "outputs": [
    {
     "name": "stdout",
     "output_type": "stream",
     "text": [
      "0.125 s\n"
     ]
    }
   ],
   "source": [
    "lowest_time = df_midi.min_time.min()\n",
    "print(lowest_time, 's')"
   ]
  },
  {
   "cell_type": "markdown",
   "metadata": {},
   "source": [
    "### Filtrar frecuencias\n",
    "Sólo se conservan aquellas que son alcanzables por una voz humana"
   ]
  },
  {
   "cell_type": "code",
   "execution_count": 16,
   "metadata": {},
   "outputs": [],
   "source": [
    "### Filtra notas que no son ejecutadas\n",
    "notas_mask = (df_notas.sum() > 0)\n",
    "notas_ejecutadas = notas_mask[notas_mask]\n",
    "\n",
    "# Transforma en DataFrame\n",
    "notas_ejecutadas = notas_ejecutadas.index.str.extract('(^\\d+) \\((\\w#?\\d)\\)') # Separa la clave MIDI del Cifrado\n",
    "notas_ejecutadas = notas_ejecutadas.rename({0:'midi-ET', 1: 'cifrado'}, axis=1) # Renombrar\n",
    "notas_ejecutadas['midi-ET'] = notas_ejecutadas['midi-ET'].astype(int) # Regresar a numérico\n",
    "notas_ejecutadas['herts-ET'] = utils.preprocess.nota_a_frequencia(notas_ejecutadas['midi-ET']) # Convertir a frecuencia"
   ]
  },
  {
   "cell_type": "code",
   "execution_count": 17,
   "metadata": {},
   "outputs": [
    {
     "name": "stdout",
     "output_type": "stream",
     "text": [
      "Rango de frecuencias utilizable (Hz): (18.0, 1167.0)\n"
     ]
    }
   ],
   "source": [
    "# Calcular cotas de filtrado\n",
    "hz_std = notas_ejecutadas['herts-ET'].std() \n",
    "\n",
    "hz_lb = np.floor( notas_ejecutadas['herts-ET'].min() * (1-0.5) )\n",
    "hz_ub = np.ceil( notas_ejecutadas['herts-ET'].max() + 0.5*hz_std )\n",
    "\n",
    "freq_range = (hz_lb, hz_ub)\n",
    "print(f'Rango de frecuencias utilizable (Hz): {freq_range}')"
   ]
  },
  {
   "cell_type": "markdown",
   "metadata": {},
   "source": [
    "### Reducción dimensión de tiempo\n",
    "\n",
    "La reducción se realiza a un tiempo $T$ siguiendo los siguientes pasos para garantizar la integridad de las notas:\n",
    "\n",
    "- Recortar tiempo muerto al inicio del MIDI\n",
    "- Encontrar el punto de corte en $T$ del MIDI\n",
    "- Verificar si hay una nota sonando\n",
    "- Eliminar la nota sonando\n",
    "- Capturar el tiempo $t_f$ en la que termina la última nota ($t_f \\leq 10$)"
   ]
  },
  {
   "cell_type": "code",
   "execution_count": 23,
   "metadata": {},
   "outputs": [],
   "source": [
    "def procesar_midis(midi_names, output_folder, T):\n",
    "    \"\"\"\n",
    "    Aplica las funciones de recorte de desfase de tiempo inicial (lstrip) y ajuste a T segundos \n",
    "    a todos los archivos MIDI en una carpeta.\n",
    "    \n",
    "    Parámetros:\n",
    "        midi_names (Series): Nombres de los MIDI a convertir.\n",
    "        output_folder (str): Carpeta de destino para guardar los archivos MIDI procesados.\n",
    "        T (float): Duración máxima en segundos para los archivos MIDI procesados.\n",
    "    \"\"\"\n",
    "    # Revisar carpeta de salida\n",
    "    os.makedirs(output_folder, exist_ok=True)\n",
    "    # Definir carpeta de MIDIs\n",
    "    input_folder = 'datos/MIDIs/midi_data/'\n",
    "\n",
    "    \n",
    "    for midi_name in midi_names:\n",
    "        midi_path = os.path.join(input_folder, midi_name + '.mid')\n",
    "        mid = mido.MidiFile(midi_path)\n",
    "        \n",
    "        # Recortar tiempo muerto\n",
    "        mid = utils.midi.lstrip(mid)\n",
    "        \n",
    "        # Recortar duración a T segundos\n",
    "        tempo = df_midi['tempo_ms'].loc[midi_name]\n",
    "        mid = utils.midi.trim(mid, tempo, T)\n",
    "        \n",
    "        # Guardar el archivo MIDI procesado\n",
    "        output_path = os.path.join(output_folder, midi_name + '.mid')\n",
    "        mid.save(output_path)\n"
   ]
  },
  {
   "cell_type": "code",
   "execution_count": 24,
   "metadata": {},
   "outputs": [],
   "source": [
    "procesar_midis(midi_names=df_midi.index,\n",
    "               output_folder='datos_procesados/midis/trimmed/',\n",
    "               T=10)"
   ]
  },
  {
   "cell_type": "markdown",
   "metadata": {},
   "source": [
    "### MIDI 2 vector"
   ]
  },
  {
   "cell_type": "code",
   "execution_count": 8,
   "metadata": {},
   "outputs": [],
   "source": [
    "def crear_vectores(midi_names, output_folder, N, T):\n",
    "    \"\"\"\n",
    "    Convierte todos los midi ingresados a vector, siguiendo los criterios de asignación:\n",
    "    `vec[i] -> comienzo del evento`\n",
    "    `vec[i+1] -> Duración L_segs del evento` \n",
    "    Esto implica que si una nota deja de sonar en la casilla [i], esa casilla se marcará con \"0\", \n",
    "    pues se considera que consumió la casilla i-1 y terminó al inicio de la casilla i.\n",
    "    \n",
    "    Parámetros:\n",
    "        midi_names (Series): Nombres de los MIDI a convertir.\n",
    "        output_folder (str): Carpeta de destino para guardar los vectores MIDI.\n",
    "        N (int): Longitud del vector MIDI (normalmente del tamaño de ventanas temporales)\n",
    "        T (float): Duración máxima en segundos que codifica el vector\n",
    "    \"\"\"\n",
    "    # Revisar carpeta de salida\n",
    "    os.makedirs(output_folder, exist_ok=True)\n",
    "    # Definir carpeta de MIDIs\n",
    "    input_folder = 'datos_procesados/midis/trimmed/'\n",
    "\n",
    "    \n",
    "    for midi_name in midi_names:\n",
    "        midi_path = os.path.join(input_folder, midi_name + '.mid')\n",
    "        mid = mido.MidiFile(midi_path)\n",
    "        \n",
    "        # Transformar a vector\n",
    "        vector = utils.midi.midi2vec(mid, N, T)\n",
    "        \n",
    "        # Guardar vector\n",
    "        output_vect_path = os.path.join(output_folder, midi_name + '_target.npy')\n",
    "        np.save(output_vect_path, vector)\n"
   ]
  },
  {
   "cell_type": "code",
   "execution_count": null,
   "metadata": {},
   "outputs": [],
   "source": [
    "crear_vectores(midi_names=df_midi.index,\n",
    "               output_folder='datos_procesados/midis/target_vectors/',\n",
    "               N=int(10 / (lowest_time/2)),\n",
    "               T=10)"
   ]
  },
  {
   "cell_type": "markdown",
   "metadata": {},
   "source": [
    "- Dimensión de vectores\n",
    "\n",
    "El máximo debe ser de 160 pues $\\text{sr} / (\\text{lowest\\_time} / 2) = 160$. Las que son menores a este valor, es debido a que los audios son más cortos."
   ]
  },
  {
   "cell_type": "code",
   "execution_count": 10,
   "metadata": {},
   "outputs": [],
   "source": [
    "folder_path = 'datos_procesados/midis/target_vectors/'\n",
    "names = []\n",
    "shapes = []\n",
    "for filename in os.listdir(folder_path):\n",
    "    file_path = os.path.join(folder_path, filename)\n",
    "    data = np.load(file_path)\n",
    "    names.append(filename)\n",
    "    shapes.append(data.shape)"
   ]
  },
  {
   "cell_type": "code",
   "execution_count": 11,
   "metadata": {},
   "outputs": [
    {
     "data": {
      "text/html": [
       "<div>\n",
       "<style scoped>\n",
       "    .dataframe tbody tr th:only-of-type {\n",
       "        vertical-align: middle;\n",
       "    }\n",
       "\n",
       "    .dataframe tbody tr th {\n",
       "        vertical-align: top;\n",
       "    }\n",
       "\n",
       "    .dataframe thead th {\n",
       "        text-align: right;\n",
       "    }\n",
       "</style>\n",
       "<table border=\"1\" class=\"dataframe\">\n",
       "  <thead>\n",
       "    <tr style=\"text-align: right;\">\n",
       "      <th></th>\n",
       "      <th>0</th>\n",
       "    </tr>\n",
       "  </thead>\n",
       "  <tbody>\n",
       "    <tr>\n",
       "      <th>count</th>\n",
       "      <td>10053.000000</td>\n",
       "    </tr>\n",
       "    <tr>\n",
       "      <th>mean</th>\n",
       "      <td>143.427932</td>\n",
       "    </tr>\n",
       "    <tr>\n",
       "      <th>std</th>\n",
       "      <td>12.131464</td>\n",
       "    </tr>\n",
       "    <tr>\n",
       "      <th>min</th>\n",
       "      <td>80.000000</td>\n",
       "    </tr>\n",
       "    <tr>\n",
       "      <th>25%</th>\n",
       "      <td>137.000000</td>\n",
       "    </tr>\n",
       "    <tr>\n",
       "      <th>50%</th>\n",
       "      <td>145.000000</td>\n",
       "    </tr>\n",
       "    <tr>\n",
       "      <th>75%</th>\n",
       "      <td>152.000000</td>\n",
       "    </tr>\n",
       "    <tr>\n",
       "      <th>max</th>\n",
       "      <td>160.000000</td>\n",
       "    </tr>\n",
       "  </tbody>\n",
       "</table>\n",
       "</div>"
      ],
      "text/plain": [
       "                  0\n",
       "count  10053.000000\n",
       "mean     143.427932\n",
       "std       12.131464\n",
       "min       80.000000\n",
       "25%      137.000000\n",
       "50%      145.000000\n",
       "75%      152.000000\n",
       "max      160.000000"
      ]
     },
     "execution_count": 11,
     "metadata": {},
     "output_type": "execute_result"
    }
   ],
   "source": [
    "window_shapes = pd.DataFrame(shapes, index = names)\n",
    "window_shapes.describe()"
   ]
  },
  {
   "cell_type": "markdown",
   "metadata": {},
   "source": [
    "# Tarareos\n"
   ]
  },
  {
   "cell_type": "code",
   "execution_count": 18,
   "metadata": {},
   "outputs": [],
   "source": [
    "def procesar_tarareos(audio_names, output_folder_frames, output_folder_espectros, L_seg, freq_range):\n",
    "    \"\"\"\n",
    "    Procesa todos los archivos de audio seleccionados, aplicando recorte, \n",
    "    división en ventanas y generación de espectrogramas.\n",
    "    \n",
    "    Parámetros:\n",
    "        audio_names (Series): Nombres de los audios a procesar.\n",
    "        output_folder_frames (str): Carpeta para guardar los arreglos de ventanas de audio procesados.\n",
    "        output_folder_espectros (str): Carpeta para guardar los espectrogramas generados.\n",
    "        L_seg (float): Duración de cada ventana en segundos.\n",
    "        freq_range (tuple): Rango de frecuencias a considerar (min_freq, max_freq).\n",
    "    \"\"\"\n",
    "    # Librería de transformación de tarareos\n",
    "    audio = utils.tarareos\n",
    "    # Crear carpetas de salida si no existen\n",
    "    os.makedirs(output_folder_frames, exist_ok=True)\n",
    "    os.makedirs(output_folder_espectros, exist_ok=True)\n",
    "    # Definir carpeta de tarareos\n",
    "    input_folder = 'datos/Tarareos/wav_data_sync_with_midi/'\n",
    "    midi_folder = 'datos_procesados/midis/trimmed/' # Los ya procesados\n",
    "    final_freqs = {}\n",
    "\n",
    "    for audio_name in audio_names:\n",
    "        audio_path = os.path.join(input_folder, audio_name + '.wav')\n",
    "        y, sr = librosa.load(audio_path)\n",
    "        mid = mido.MidiFile(midi_folder + audio_name + '.mid')\n",
    "        T_midi = mid.length\n",
    "\n",
    "        # Recortar el audio\n",
    "        y_recortado = audio.trim(y, sr, T_midi, top_db=55) #, top_db=-55\n",
    "        \n",
    "        ### VENTANAS\n",
    "        # Amplitud positiva (magnitud) y Normalizar\n",
    "        y_abs = np.abs(y_recortado)\n",
    "        y_norm = (y - np.min(y_abs)) / (np.max(y_abs) - np.min(y_abs))\n",
    "\n",
    "        audio_frames, L = audio.dividir_en_ventanas(y_norm, sr, L_seg)\n",
    "\n",
    "        output_frame_path = os.path.join(output_folder_frames, audio_name + '_frames.npy')\n",
    "        np.save(output_frame_path, audio_frames)\n",
    "        \n",
    "        ### ESPECTROGRAMA\n",
    "        espectrograma, _freqs = audio.espectrograma(y_recortado, sr, L, freq_range)\n",
    "        final_freqs[audio_name] = _freqs\n",
    "    \n",
    "        output_espectro_path = os.path.join(output_folder_espectros, audio_name + '_espectrograma.npy')\n",
    "        # print(espectrograma.shape)\n",
    "        np.save(output_espectro_path, espectrograma)"
   ]
  },
  {
   "cell_type": "code",
   "execution_count": 19,
   "metadata": {},
   "outputs": [],
   "source": [
    "procesar_tarareos(audio_names=df_midi.index,\n",
    "                  output_folder_frames='datos_procesados/tarareos/ventanas/',\n",
    "                  output_folder_espectros='datos_procesados/tarareos/espectrogramas/',\n",
    "                  L_seg=lowest_time/2,\n",
    "                  freq_range=freq_range)"
   ]
  },
  {
   "cell_type": "code",
   "execution_count": 257,
   "metadata": {},
   "outputs": [],
   "source": [
    "#### Muestras\n",
    "# T_audio > 10 : F04_0300_0001_1_D\n",
    "# T_audio = 10 : F01_0009_0001_2_D\n",
    "# T_audio < 10 : F01_0035_0001_2_D\n",
    "# Nota sonando en T : F01_0028_0003_2_D\n",
    "# Nota no sonando en T: F01_0022_0001_1_D"
   ]
  },
  {
   "cell_type": "markdown",
   "metadata": {},
   "source": [
    "- Dimensiones de ventanas"
   ]
  },
  {
   "cell_type": "code",
   "execution_count": 15,
   "metadata": {},
   "outputs": [],
   "source": [
    "folder_path = 'datos_procesados/tarareos/ventanas/'\n",
    "names = []\n",
    "shapes = []\n",
    "for filename in os.listdir(folder_path):\n",
    "    file_path = os.path.join(folder_path, filename)\n",
    "    data = np.load(file_path)\n",
    "    names.append(filename)\n",
    "    shapes.append(data.shape)"
   ]
  },
  {
   "cell_type": "code",
   "execution_count": 19,
   "metadata": {},
   "outputs": [
    {
     "data": {
      "text/html": [
       "<div>\n",
       "<style scoped>\n",
       "    .dataframe tbody tr th:only-of-type {\n",
       "        vertical-align: middle;\n",
       "    }\n",
       "\n",
       "    .dataframe tbody tr th {\n",
       "        vertical-align: top;\n",
       "    }\n",
       "\n",
       "    .dataframe thead th {\n",
       "        text-align: right;\n",
       "    }\n",
       "</style>\n",
       "<table border=\"1\" class=\"dataframe\">\n",
       "  <thead>\n",
       "    <tr style=\"text-align: right;\">\n",
       "      <th></th>\n",
       "      <th>0</th>\n",
       "      <th>1</th>\n",
       "    </tr>\n",
       "  </thead>\n",
       "  <tbody>\n",
       "    <tr>\n",
       "      <th>count</th>\n",
       "      <td>10053.0</td>\n",
       "      <td>10053.000000</td>\n",
       "    </tr>\n",
       "    <tr>\n",
       "      <th>mean</th>\n",
       "      <td>1378.0</td>\n",
       "      <td>150.395106</td>\n",
       "    </tr>\n",
       "    <tr>\n",
       "      <th>std</th>\n",
       "      <td>0.0</td>\n",
       "      <td>10.921703</td>\n",
       "    </tr>\n",
       "    <tr>\n",
       "      <th>min</th>\n",
       "      <td>1378.0</td>\n",
       "      <td>73.000000</td>\n",
       "    </tr>\n",
       "    <tr>\n",
       "      <th>25%</th>\n",
       "      <td>1378.0</td>\n",
       "      <td>146.000000</td>\n",
       "    </tr>\n",
       "    <tr>\n",
       "      <th>50%</th>\n",
       "      <td>1378.0</td>\n",
       "      <td>154.000000</td>\n",
       "    </tr>\n",
       "    <tr>\n",
       "      <th>75%</th>\n",
       "      <td>1378.0</td>\n",
       "      <td>157.000000</td>\n",
       "    </tr>\n",
       "    <tr>\n",
       "      <th>max</th>\n",
       "      <td>1378.0</td>\n",
       "      <td>230.000000</td>\n",
       "    </tr>\n",
       "  </tbody>\n",
       "</table>\n",
       "</div>"
      ],
      "text/plain": [
       "             0             1\n",
       "count  10053.0  10053.000000\n",
       "mean    1378.0    150.395106\n",
       "std        0.0     10.921703\n",
       "min     1378.0     73.000000\n",
       "25%     1378.0    146.000000\n",
       "50%     1378.0    154.000000\n",
       "75%     1378.0    157.000000\n",
       "max     1378.0    230.000000"
      ]
     },
     "execution_count": 19,
     "metadata": {},
     "output_type": "execute_result"
    }
   ],
   "source": [
    "window_shapes = pd.DataFrame(shapes, index = names)\n",
    "window_shapes.describe()"
   ]
  },
  {
   "cell_type": "markdown",
   "metadata": {},
   "source": [
    "- Dimensiones de espectrogramas"
   ]
  },
  {
   "cell_type": "code",
   "execution_count": 20,
   "metadata": {},
   "outputs": [],
   "source": [
    "folder_path = 'datos_procesados/tarareos/espectrogramas/'\n",
    "names = []\n",
    "shapes = []\n",
    "for filename in os.listdir(folder_path):\n",
    "    file_path = os.path.join(folder_path, filename)\n",
    "    data = np.load(file_path)\n",
    "    names.append(filename)\n",
    "    shapes.append(data.shape)"
   ]
  },
  {
   "cell_type": "code",
   "execution_count": 21,
   "metadata": {},
   "outputs": [
    {
     "data": {
      "text/html": [
       "<div>\n",
       "<style scoped>\n",
       "    .dataframe tbody tr th:only-of-type {\n",
       "        vertical-align: middle;\n",
       "    }\n",
       "\n",
       "    .dataframe tbody tr th {\n",
       "        vertical-align: top;\n",
       "    }\n",
       "\n",
       "    .dataframe thead th {\n",
       "        text-align: right;\n",
       "    }\n",
       "</style>\n",
       "<table border=\"1\" class=\"dataframe\">\n",
       "  <thead>\n",
       "    <tr style=\"text-align: right;\">\n",
       "      <th></th>\n",
       "      <th>0</th>\n",
       "      <th>1</th>\n",
       "    </tr>\n",
       "  </thead>\n",
       "  <tbody>\n",
       "    <tr>\n",
       "      <th>count</th>\n",
       "      <td>10053.0</td>\n",
       "      <td>10053.000000</td>\n",
       "    </tr>\n",
       "    <tr>\n",
       "      <th>mean</th>\n",
       "      <td>70.0</td>\n",
       "      <td>151.395106</td>\n",
       "    </tr>\n",
       "    <tr>\n",
       "      <th>std</th>\n",
       "      <td>0.0</td>\n",
       "      <td>10.921703</td>\n",
       "    </tr>\n",
       "    <tr>\n",
       "      <th>min</th>\n",
       "      <td>70.0</td>\n",
       "      <td>74.000000</td>\n",
       "    </tr>\n",
       "    <tr>\n",
       "      <th>25%</th>\n",
       "      <td>70.0</td>\n",
       "      <td>147.000000</td>\n",
       "    </tr>\n",
       "    <tr>\n",
       "      <th>50%</th>\n",
       "      <td>70.0</td>\n",
       "      <td>155.000000</td>\n",
       "    </tr>\n",
       "    <tr>\n",
       "      <th>75%</th>\n",
       "      <td>70.0</td>\n",
       "      <td>158.000000</td>\n",
       "    </tr>\n",
       "    <tr>\n",
       "      <th>max</th>\n",
       "      <td>70.0</td>\n",
       "      <td>231.000000</td>\n",
       "    </tr>\n",
       "  </tbody>\n",
       "</table>\n",
       "</div>"
      ],
      "text/plain": [
       "             0             1\n",
       "count  10053.0  10053.000000\n",
       "mean      70.0    151.395106\n",
       "std        0.0     10.921703\n",
       "min       70.0     74.000000\n",
       "25%       70.0    147.000000\n",
       "50%       70.0    155.000000\n",
       "75%       70.0    158.000000\n",
       "max       70.0    231.000000"
      ]
     },
     "execution_count": 21,
     "metadata": {},
     "output_type": "execute_result"
    }
   ],
   "source": [
    "espectro_shapes = pd.DataFrame(shapes, index = names)\n",
    "espectro_shapes.describe()"
   ]
  },
  {
   "cell_type": "markdown",
   "metadata": {},
   "source": [
    "# Otros"
   ]
  },
  {
   "cell_type": "markdown",
   "metadata": {},
   "source": [
    "- Test window normalization values (input arrays)"
   ]
  },
  {
   "cell_type": "code",
   "execution_count": 52,
   "metadata": {},
   "outputs": [],
   "source": [
    "foo = np.load('datos_procesados/tarareos/ventanas/F01_0004_0001_1_D_frames.npy')"
   ]
  },
  {
   "cell_type": "code",
   "execution_count": 53,
   "metadata": {},
   "outputs": [
    {
     "data": {
      "text/plain": [
       "count    2.204800e+05\n",
       "mean     6.240104e-08\n",
       "std      8.613486e-02\n",
       "min     -3.978373e-01\n",
       "25%     -3.326048e-02\n",
       "50%     -9.359404e-05\n",
       "75%      2.069025e-02\n",
       "max      4.222424e-01\n",
       "dtype: float64"
      ]
     },
     "execution_count": 53,
     "metadata": {},
     "output_type": "execute_result"
    }
   ],
   "source": [
    "pd.Series(foo.reshape(-1)).describe()"
   ]
  },
  {
   "cell_type": "code",
   "execution_count": 54,
   "metadata": {},
   "outputs": [
    {
     "data": {
      "text/plain": [
       "<Axes: >"
      ]
     },
     "execution_count": 54,
     "metadata": {},
     "output_type": "execute_result"
    },
    {
     "data": {
      "image/png": "[encoded data removed]",
      "text/plain": [
       "<Figure size 640x480 with 1 Axes>"
      ]
     },
     "metadata": {},
     "output_type": "display_data"
    }
   ],
   "source": [
    "pd.Series(foo[:,0]).hist()"
   ]
  },
  {
   "cell_type": "code",
   "execution_count": 56,
   "metadata": {},
   "outputs": [
    {
     "data": {
      "text/plain": [
       "<Axes: >"
      ]
     },
     "execution_count": 56,
     "metadata": {},
     "output_type": "execute_result"
    },
    {
     "data": {
      "image/png": "[encoded data removed]",
      "text/plain": [
       "<Figure size 640x480 with 1 Axes>"
      ]
     },
     "metadata": {},
     "output_type": "display_data"
    }
   ],
   "source": [
    "pd.Series(foo[:,10]).hist()\n",
    "#Requiere normalización en x (amplitudes)"
   ]
  },
  {
   "cell_type": "markdown",
   "metadata": {},
   "source": [
    "- Norm"
   ]
  },
  {
   "cell_type": "code",
   "execution_count": 62,
   "metadata": {},
   "outputs": [
    {
     "data": {
      "text/plain": [
       "count    220480.000000\n",
       "mean          0.485120\n",
       "std           0.105032\n",
       "min           0.000000\n",
       "25%           0.444563\n",
       "50%           0.485006\n",
       "75%           0.510350\n",
       "max           1.000000\n",
       "dtype: float64"
      ]
     },
     "execution_count": 62,
     "metadata": {},
     "output_type": "execute_result"
    }
   ],
   "source": [
    "foo_norm = (foo - np.min(foo)) / (np.max(foo) - np.min(foo))\n",
    "pd.Series(foo_norm.reshape(-1)).describe()"
   ]
  },
  {
   "cell_type": "code",
   "execution_count": 65,
   "metadata": {},
   "outputs": [
    {
     "data": {
      "text/plain": [
       "(0.0, 1.0)"
      ]
     },
     "execution_count": 65,
     "metadata": {},
     "output_type": "execute_result"
    },
    {
     "data": {
      "image/png": "[encoded data removed]",
      "text/plain": [
       "<Figure size 640x480 with 1 Axes>"
      ]
     },
     "metadata": {},
     "output_type": "display_data"
    }
   ],
   "source": [
    "pd.Series(foo_norm[:,0]).hist()\n",
    "plt.xlim(0,1)"
   ]
  },
  {
   "cell_type": "code",
   "execution_count": 66,
   "metadata": {},
   "outputs": [
    {
     "data": {
      "text/plain": [
       "(0.0, 1.0)"
      ]
     },
     "execution_count": 66,
     "metadata": {},
     "output_type": "execute_result"
    },
    {
     "data": {
      "image/png": "[encoded data removed]",
      "text/plain": [
       "<Figure size 640x480 with 1 Axes>"
      ]
     },
     "metadata": {},
     "output_type": "display_data"
    }
   ],
   "source": [
    "pd.Series(foo_norm[:,10]).hist()\n",
    "plt.xlim(0,1)"
   ]
  }
 ],
 "metadata": {
  "kernelspec": {
   "display_name": "Python 3",
   "language": "python",
   "name": "python3"
  },
  "language_info": {
   "codemirror_mode": {
    "name": "ipython",
    "version": 3
   },
   "file_extension": ".py",
   "mimetype": "text/x-python",
   "name": "python",
   "nbconvert_exporter": "python",
   "pygments_lexer": "ipython3",
   "version": "3.11.5"
  }
 },
 "nbformat": 4,
 "nbformat_minor": 2
}
