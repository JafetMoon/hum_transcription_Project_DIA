{
 "cells": [
  {
   "cell_type": "code",
   "execution_count": 1,
   "metadata": {},
   "outputs": [],
   "source": [
    "import os\n",
    "import mido\n",
    "import utils ##\n",
    "import librosa\n",
    "import numpy as np\n",
    "import pandas as pd\n",
    "import matplotlib.pyplot as plt\n",
    "import matplotlib.cm as cm\n",
    "import matplotlib.colors as mcolors"
   ]
  },
  {
   "cell_type": "markdown",
   "metadata": {},
   "source": [
    "Datos preprocesados:\n",
    "https://drive.google.com/drive/folders/1jzfK-VM_Qb76K31Y7iMpsi1JeQ7QqU5W?usp=sharing"
   ]
  },
  {
   "cell_type": "markdown",
   "metadata": {},
   "source": [
    "# Importar Datos"
   ]
  },
  {
   "cell_type": "code",
   "execution_count": 2,
   "metadata": {},
   "outputs": [],
   "source": [
    "df_midis_info = pd.read_csv('datos_procesados/midis/midis_info.csv', index_col=0)\n",
    "df_midis_notas = pd.read_csv('datos_procesados/midis/midis_notas.csv', index_col=0)"
   ]
  },
  {
   "cell_type": "code",
   "execution_count": 3,
   "metadata": {},
   "outputs": [],
   "source": [
    "# Tipos de MIDI\n",
    "df_non_standard = pd.read_csv('datos_procesados/midis/tipos/no_estandar.csv', index_col=0)\n",
    "df_standard = pd.read_csv('datos_procesados/midis/tipos/estandar.csv', index_col=0)"
   ]
  },
  {
   "cell_type": "code",
   "execution_count": 4,
   "metadata": {},
   "outputs": [],
   "source": [
    "# Usar los audios con expresión MIDI estándar\n",
    "df_midi = df_standard.merge(df_midis_info, how='left', left_index=True, right_index=True)\n",
    "df_midi = df_midi.drop(columns=['problem?'])\n",
    "df_midi = df_midi.rename({'velocity':'velocity_start'}, axis=1)\n",
    "\n",
    "df_notas = df_midis_notas.loc[df_midi.index]"
   ]
  },
  {
   "cell_type": "markdown",
   "metadata": {},
   "source": [
    "# MIDIS"
   ]
  },
  {
   "cell_type": "code",
   "execution_count": 5,
   "metadata": {},
   "outputs": [
    {
     "name": "stdout",
     "output_type": "stream",
     "text": [
      "0.125 s\n"
     ]
    }
   ],
   "source": [
    "lowest_time = df_midi.min_time.min()\n",
    "print(lowest_time, 's')"
   ]
  },
  {
   "cell_type": "markdown",
   "metadata": {},
   "source": [
    "### Filtrar frecuencias\n",
    "Sólo se conservan aquellas que son alcanzables por una voz humana"
   ]
  },
  {
   "cell_type": "code",
   "execution_count": 6,
   "metadata": {},
   "outputs": [],
   "source": [
    "### Filtra notas que no son ejecutadas\n",
    "notas_mask = (df_notas.sum() > 0)\n",
    "notas_ejecutadas = notas_mask[notas_mask]\n",
    "\n",
    "# Transforma en DataFrame\n",
    "notas_ejecutadas = notas_ejecutadas.index.str.extract('(^\\d+) \\((\\w#?\\d)\\)') # Separa la clave MIDI del Cifrado\n",
    "notas_ejecutadas = notas_ejecutadas.rename({0:'midi-ET', 1: 'cifrado'}, axis=1) # Renombrar\n",
    "notas_ejecutadas['midi-ET'] = notas_ejecutadas['midi-ET'].astype(int) # Regresar a numérico\n",
    "notas_ejecutadas['herts-ET'] = utils.preprocess.nota_a_frequencia(notas_ejecutadas['midi-ET']) # Convertir a frecuencia"
   ]
  },
  {
   "cell_type": "code",
   "execution_count": 7,
   "metadata": {},
   "outputs": [
    {
     "name": "stdout",
     "output_type": "stream",
     "text": [
      "Rango de frecuencias utilizable (Hz): (18.0, 1167.0)\n"
     ]
    }
   ],
   "source": [
    "# Calcular cotas de filtrado\n",
    "hz_std = notas_ejecutadas['herts-ET'].std() \n",
    "\n",
    "hz_lb = np.floor( notas_ejecutadas['herts-ET'].min() * (1-0.5) )\n",
    "hz_ub = np.ceil( notas_ejecutadas['herts-ET'].max() + 0.5*hz_std )\n",
    "\n",
    "freq_range = (hz_lb, hz_ub)\n",
    "print(f'Rango de frecuencias utilizable (Hz): {freq_range}')"
   ]
  },
  {
   "cell_type": "markdown",
   "metadata": {},
   "source": [
    "### Reducción dimensión de tiempo\n",
    "\n",
    "La reducción se realiza a un tiempo $T$ siguiendo los siguientes pasos para garantizar la integridad de las notas:\n",
    "\n",
    "- Recortar tiempo muerto al inicio del MIDI\n",
    "- Encontrar el punto de corte en $T$ del MIDI\n",
    "- Verificar si hay una nota sonando\n",
    "- Eliminar la nota sonando\n",
    "- Capturar el tiempo $t_f$ en la que termina la última nota ($t_f \\leq 10$)"
   ]
  },
  {
   "cell_type": "code",
   "execution_count": 23,
   "metadata": {},
   "outputs": [],
   "source": [
    "def procesar_midis(midi_names, output_folder, T):\n",
    "    \"\"\"\n",
    "    Aplica las funciones de recorte de desfase de tiempo inicial (lstrip) y ajuste a T segundos \n",
    "    a todos los archivos MIDI en una carpeta.\n",
    "    \n",
    "    Parámetros:\n",
    "        midi_names (Series): Nombres de los MIDI a convertir.\n",
    "        output_folder (str): Carpeta de destino para guardar los archivos MIDI procesados.\n",
    "        T (float): Duración máxima en segundos para los archivos MIDI procesados.\n",
    "    \"\"\"\n",
    "    # Revisar carpeta de salida\n",
    "    os.makedirs(output_folder, exist_ok=True)\n",
    "    # Definir carpeta de MIDIs\n",
    "    input_folder = 'datos/MIDIs/midi_data/'\n",
    "\n",
    "    \n",
    "    for midi_name in midi_names:\n",
    "        midi_path = os.path.join(input_folder, midi_name + '.mid')\n",
    "        mid = mido.MidiFile(midi_path)\n",
    "        \n",
    "        # Recortar tiempo muerto\n",
    "        mid = utils.midi.lstrip(mid)\n",
    "        \n",
    "        # Recortar duración a T segundos\n",
    "        tempo = df_midi['tempo_ms'].loc[midi_name]\n",
    "        mid = utils.midi.trim(mid, tempo, T)\n",
    "        \n",
    "        # Guardar el archivo MIDI procesado\n",
    "        output_path = os.path.join(output_folder, midi_name + '.mid')\n",
    "        mid.save(output_path)\n"
   ]
  },
  {
   "cell_type": "code",
   "execution_count": 24,
   "metadata": {},
   "outputs": [],
   "source": [
    "procesar_midis(midi_names=df_midi.index,\n",
    "               output_folder='datos_procesados/midis/trimmed/',\n",
    "               T=10)"
   ]
  },
  {
   "cell_type": "markdown",
   "metadata": {},
   "source": [
    "### MIDI 2 vector"
   ]
  },
  {
   "cell_type": "code",
   "execution_count": 8,
   "metadata": {},
   "outputs": [],
   "source": [
    "def crear_vectores(midi_names, output_folder, N, T):\n",
    "    \"\"\"\n",
    "    Convierte todos los midi ingresados a vector, siguiendo los criterios de asignación:\n",
    "    `vec[i] -> comienzo del evento`\n",
    "    `vec[i+1] -> Duración L_segs del evento` \n",
    "    Esto implica que si una nota deja de sonar en la casilla [i], esa casilla se marcará con \"0\", \n",
    "    pues se considera que consumió la casilla i-1 y terminó al inicio de la casilla i.\n",
    "    \n",
    "    Parámetros:\n",
    "        midi_names (Series): Nombres de los MIDI a convertir.\n",
    "        output_folder (str): Carpeta de destino para guardar los vectores MIDI.\n",
    "        N (int): Longitud del vector MIDI (normalmente del tamaño de ventanas temporales)\n",
    "        T (float): Duración máxima en segundos que codifica el vector\n",
    "    \"\"\"\n",
    "    # Revisar carpeta de salida\n",
    "    os.makedirs(output_folder, exist_ok=True)\n",
    "    # Definir carpeta de MIDIs\n",
    "    input_folder = 'datos_procesados/midis/trimmed/'\n",
    "\n",
    "    \n",
    "    for midi_name in midi_names:\n",
    "        midi_path = os.path.join(input_folder, midi_name + '.mid')\n",
    "        mid = mido.MidiFile(midi_path)\n",
    "        \n",
    "        # Transformar a vector\n",
    "        vector = utils.midi.midi2vec(mid, N, T)\n",
    "        \n",
    "        # Guardar vector\n",
    "        output_vect_path = os.path.join(output_folder, midi_name + '_target.npy')\n",
    "        np.save(output_vect_path, vector)\n"
   ]
  },
  {
   "cell_type": "code",
   "execution_count": null,
   "metadata": {},
   "outputs": [],
   "source": [
    "crear_vectores(midi_names=df_midi.index,\n",
    "               output_folder='datos_procesados/midis/target_vectors/',\n",
    "               N=int(10 / (lowest_time/2)),\n",
    "               T=10)"
   ]
  },
  {
   "cell_type": "markdown",
   "metadata": {},
   "source": [
    "- Dimensión de vectores\n",
    "\n",
    "El máximo debe ser de 160 pues $\\text{sr} / (\\text{lowest\\_time} / 2) = 160$. Las que son menores a este valor, es debido a que los audios son más cortos."
   ]
  },
  {
   "cell_type": "code",
   "execution_count": 10,
   "metadata": {},
   "outputs": [],
   "source": [
    "folder_path = 'datos_procesados/midis/target_vectors/'\n",
    "names = []\n",
    "shapes = []\n",
    "for filename in os.listdir(folder_path):\n",
    "    file_path = os.path.join(folder_path, filename)\n",
    "    data = np.load(file_path)\n",
    "    names.append(filename)\n",
    "    shapes.append(data.shape)"
   ]
  },
  {
   "cell_type": "code",
   "execution_count": 11,
   "metadata": {},
   "outputs": [
    {
     "data": {
      "text/html": [
       "<div>\n",
       "<style scoped>\n",
       "    .dataframe tbody tr th:only-of-type {\n",
       "        vertical-align: middle;\n",
       "    }\n",
       "\n",
       "    .dataframe tbody tr th {\n",
       "        vertical-align: top;\n",
       "    }\n",
       "\n",
       "    .dataframe thead th {\n",
       "        text-align: right;\n",
       "    }\n",
       "</style>\n",
       "<table border=\"1\" class=\"dataframe\">\n",
       "  <thead>\n",
       "    <tr style=\"text-align: right;\">\n",
       "      <th></th>\n",
       "      <th>0</th>\n",
       "    </tr>\n",
       "  </thead>\n",
       "  <tbody>\n",
       "    <tr>\n",
       "      <th>count</th>\n",
       "      <td>10053.000000</td>\n",
       "    </tr>\n",
       "    <tr>\n",
       "      <th>mean</th>\n",
       "      <td>143.427932</td>\n",
       "    </tr>\n",
       "    <tr>\n",
       "      <th>std</th>\n",
       "      <td>12.131464</td>\n",
       "    </tr>\n",
       "    <tr>\n",
       "      <th>min</th>\n",
       "      <td>80.000000</td>\n",
       "    </tr>\n",
       "    <tr>\n",
       "      <th>25%</th>\n",
       "      <td>137.000000</td>\n",
       "    </tr>\n",
       "    <tr>\n",
       "      <th>50%</th>\n",
       "      <td>145.000000</td>\n",
       "    </tr>\n",
       "    <tr>\n",
       "      <th>75%</th>\n",
       "      <td>152.000000</td>\n",
       "    </tr>\n",
       "    <tr>\n",
       "      <th>max</th>\n",
       "      <td>160.000000</td>\n",
       "    </tr>\n",
       "  </tbody>\n",
       "</table>\n",
       "</div>"
      ],
      "text/plain": [
       "                  0\n",
       "count  10053.000000\n",
       "mean     143.427932\n",
       "std       12.131464\n",
       "min       80.000000\n",
       "25%      137.000000\n",
       "50%      145.000000\n",
       "75%      152.000000\n",
       "max      160.000000"
      ]
     },
     "execution_count": 11,
     "metadata": {},
     "output_type": "execute_result"
    }
   ],
   "source": [
    "window_shapes = pd.DataFrame(shapes, index = names)\n",
    "window_shapes.describe()"
   ]
  },
  {
   "cell_type": "markdown",
   "metadata": {},
   "source": [
    "# Tarareos\n"
   ]
  },
  {
   "cell_type": "code",
   "execution_count": 17,
   "metadata": {},
   "outputs": [],
   "source": [
    "def procesar_tarareos(audio_names, output_folder_frames, output_folder_espectros, L_seg, freq_range):\n",
    "    \"\"\"\n",
    "    Procesa todos los archivos de audio seleccionados, aplicando recorte, \n",
    "    división en ventanas y generación de espectrogramas.\n",
    "    \n",
    "    Parámetros:\n",
    "        audio_names (Series): Nombres de los audios a procesar.\n",
    "        output_folder_frames (str): Carpeta para guardar los arreglos de ventanas de audio procesados.\n",
    "        output_folder_espectros (str): Carpeta para guardar los espectrogramas generados.\n",
    "        L_seg (float): Duración de cada ventana en segundos.\n",
    "        freq_range (tuple): Rango de frecuencias a considerar (min_freq, max_freq).\n",
    "    \"\"\"\n",
    "    # Librería de transformación de tarareos\n",
    "    audio = utils.tarareos\n",
    "    # Crear carpetas de salida si no existen\n",
    "    os.makedirs(output_folder_frames, exist_ok=True)\n",
    "    os.makedirs(output_folder_espectros, exist_ok=True)\n",
    "    # Definir carpeta de tarareos\n",
    "    input_folder = 'datos/Tarareos/wav_data_sync_with_midi/'\n",
    "    midi_folder = 'datos_procesados/midis/trimmed/' # Los ya procesados\n",
    "    final_freqs = {}\n",
    "\n",
    "    for audio_name in audio_names:\n",
    "        audio_path = os.path.join(input_folder, audio_name + '.wav')\n",
    "        y, sr = librosa.load(audio_path)\n",
    "        mid = mido.MidiFile(midi_folder + audio_name + '.mid')\n",
    "        T_midi = mid.length\n",
    "\n",
    "        # Recortar el audio\n",
    "        audio_recortado = audio.trim(y, sr, T_midi, top_db=55) #, top_db=-55\n",
    "        \n",
    "        ### VENTANAS\n",
    "        audio_frames, L = audio.dividir_en_ventanas(audio_recortado, sr, L_seg)\n",
    "        \n",
    "        output_frame_path = os.path.join(output_folder_frames, audio_name + '_frames.npy')\n",
    "        # print(audio_frames.shape)\n",
    "        np.save(output_frame_path, audio_frames)\n",
    "        \n",
    "        ### ESPECTROGRAMA\n",
    "        espectrograma, _freqs = audio.espectrograma(audio_recortado, sr, L, freq_range)\n",
    "        final_freqs[audio_name] = _freqs\n",
    "    \n",
    "        output_espectro_path = os.path.join(output_folder_espectros, audio_name + '_espectrograma.npy')\n",
    "        # print(espectrograma.shape)\n",
    "        np.save(output_espectro_path, espectrograma)"
   ]
  },
  {
   "cell_type": "code",
   "execution_count": null,
   "metadata": {},
   "outputs": [],
   "source": [
    "procesar_tarareos(audio_names=df_midi.index,\n",
    "                  output_folder_frames='datos_procesados/tarareos/ventanas/',\n",
    "                  output_folder_espectros='datos_procesados/tarareos/espectrogramas/',\n",
    "                  L_seg=lowest_time/2,\n",
    "                  freq_range=freq_range)"
   ]
  },
  {
   "cell_type": "code",
   "execution_count": 257,
   "metadata": {},
   "outputs": [],
   "source": [
    "#### Muestras\n",
    "# T_audio > 10 : F04_0300_0001_1_D\n",
    "# T_audio = 10 : F01_0009_0001_2_D\n",
    "# T_audio < 10 : F01_0035_0001_2_D\n",
    "# Nota sonando en T : F01_0028_0003_2_D\n",
    "# Nota no sonando en T: F01_0022_0001_1_D"
   ]
  },
  {
   "cell_type": "markdown",
   "metadata": {},
   "source": [
    "- Dimensiones de ventanas"
   ]
  },
  {
   "cell_type": "code",
   "execution_count": 15,
   "metadata": {},
   "outputs": [],
   "source": [
    "folder_path = 'datos_procesados/tarareos/ventanas/'\n",
    "names = []\n",
    "shapes = []\n",
    "for filename in os.listdir(folder_path):\n",
    "    file_path = os.path.join(folder_path, filename)\n",
    "    data = np.load(file_path)\n",
    "    names.append(filename)\n",
    "    shapes.append(data.shape)"
   ]
  },
  {
   "cell_type": "code",
   "execution_count": 19,
   "metadata": {},
   "outputs": [
    {
     "data": {
      "text/html": [
       "<div>\n",
       "<style scoped>\n",
       "    .dataframe tbody tr th:only-of-type {\n",
       "        vertical-align: middle;\n",
       "    }\n",
       "\n",
       "    .dataframe tbody tr th {\n",
       "        vertical-align: top;\n",
       "    }\n",
       "\n",
       "    .dataframe thead th {\n",
       "        text-align: right;\n",
       "    }\n",
       "</style>\n",
       "<table border=\"1\" class=\"dataframe\">\n",
       "  <thead>\n",
       "    <tr style=\"text-align: right;\">\n",
       "      <th></th>\n",
       "      <th>0</th>\n",
       "      <th>1</th>\n",
       "    </tr>\n",
       "  </thead>\n",
       "  <tbody>\n",
       "    <tr>\n",
       "      <th>count</th>\n",
       "      <td>10053.0</td>\n",
       "      <td>10053.000000</td>\n",
       "    </tr>\n",
       "    <tr>\n",
       "      <th>mean</th>\n",
       "      <td>1378.0</td>\n",
       "      <td>150.395106</td>\n",
       "    </tr>\n",
       "    <tr>\n",
       "      <th>std</th>\n",
       "      <td>0.0</td>\n",
       "      <td>10.921703</td>\n",
       "    </tr>\n",
       "    <tr>\n",
       "      <th>min</th>\n",
       "      <td>1378.0</td>\n",
       "      <td>73.000000</td>\n",
       "    </tr>\n",
       "    <tr>\n",
       "      <th>25%</th>\n",
       "      <td>1378.0</td>\n",
       "      <td>146.000000</td>\n",
       "    </tr>\n",
       "    <tr>\n",
       "      <th>50%</th>\n",
       "      <td>1378.0</td>\n",
       "      <td>154.000000</td>\n",
       "    </tr>\n",
       "    <tr>\n",
       "      <th>75%</th>\n",
       "      <td>1378.0</td>\n",
       "      <td>157.000000</td>\n",
       "    </tr>\n",
       "    <tr>\n",
       "      <th>max</th>\n",
       "      <td>1378.0</td>\n",
       "      <td>230.000000</td>\n",
       "    </tr>\n",
       "  </tbody>\n",
       "</table>\n",
       "</div>"
      ],
      "text/plain": [
       "             0             1\n",
       "count  10053.0  10053.000000\n",
       "mean    1378.0    150.395106\n",
       "std        0.0     10.921703\n",
       "min     1378.0     73.000000\n",
       "25%     1378.0    146.000000\n",
       "50%     1378.0    154.000000\n",
       "75%     1378.0    157.000000\n",
       "max     1378.0    230.000000"
      ]
     },
     "execution_count": 19,
     "metadata": {},
     "output_type": "execute_result"
    }
   ],
   "source": [
    "window_shapes = pd.DataFrame(shapes, index = names)\n",
    "window_shapes.describe()"
   ]
  },
  {
   "cell_type": "markdown",
   "metadata": {},
   "source": [
    "- Dimensiones de espectrogramas"
   ]
  },
  {
   "cell_type": "code",
   "execution_count": 20,
   "metadata": {},
   "outputs": [],
   "source": [
    "folder_path = 'datos_procesados/tarareos/espectrogramas/'\n",
    "names = []\n",
    "shapes = []\n",
    "for filename in os.listdir(folder_path):\n",
    "    file_path = os.path.join(folder_path, filename)\n",
    "    data = np.load(file_path)\n",
    "    names.append(filename)\n",
    "    shapes.append(data.shape)"
   ]
  },
  {
   "cell_type": "code",
   "execution_count": 21,
   "metadata": {},
   "outputs": [
    {
     "data": {
      "text/html": [
       "<div>\n",
       "<style scoped>\n",
       "    .dataframe tbody tr th:only-of-type {\n",
       "        vertical-align: middle;\n",
       "    }\n",
       "\n",
       "    .dataframe tbody tr th {\n",
       "        vertical-align: top;\n",
       "    }\n",
       "\n",
       "    .dataframe thead th {\n",
       "        text-align: right;\n",
       "    }\n",
       "</style>\n",
       "<table border=\"1\" class=\"dataframe\">\n",
       "  <thead>\n",
       "    <tr style=\"text-align: right;\">\n",
       "      <th></th>\n",
       "      <th>0</th>\n",
       "      <th>1</th>\n",
       "    </tr>\n",
       "  </thead>\n",
       "  <tbody>\n",
       "    <tr>\n",
       "      <th>count</th>\n",
       "      <td>10053.0</td>\n",
       "      <td>10053.000000</td>\n",
       "    </tr>\n",
       "    <tr>\n",
       "      <th>mean</th>\n",
       "      <td>70.0</td>\n",
       "      <td>151.395106</td>\n",
       "    </tr>\n",
       "    <tr>\n",
       "      <th>std</th>\n",
       "      <td>0.0</td>\n",
       "      <td>10.921703</td>\n",
       "    </tr>\n",
       "    <tr>\n",
       "      <th>min</th>\n",
       "      <td>70.0</td>\n",
       "      <td>74.000000</td>\n",
       "    </tr>\n",
       "    <tr>\n",
       "      <th>25%</th>\n",
       "      <td>70.0</td>\n",
       "      <td>147.000000</td>\n",
       "    </tr>\n",
       "    <tr>\n",
       "      <th>50%</th>\n",
       "      <td>70.0</td>\n",
       "      <td>155.000000</td>\n",
       "    </tr>\n",
       "    <tr>\n",
       "      <th>75%</th>\n",
       "      <td>70.0</td>\n",
       "      <td>158.000000</td>\n",
       "    </tr>\n",
       "    <tr>\n",
       "      <th>max</th>\n",
       "      <td>70.0</td>\n",
       "      <td>231.000000</td>\n",
       "    </tr>\n",
       "  </tbody>\n",
       "</table>\n",
       "</div>"
      ],
      "text/plain": [
       "             0             1\n",
       "count  10053.0  10053.000000\n",
       "mean      70.0    151.395106\n",
       "std        0.0     10.921703\n",
       "min       70.0     74.000000\n",
       "25%       70.0    147.000000\n",
       "50%       70.0    155.000000\n",
       "75%       70.0    158.000000\n",
       "max       70.0    231.000000"
      ]
     },
     "execution_count": 21,
     "metadata": {},
     "output_type": "execute_result"
    }
   ],
   "source": [
    "espectro_shapes = pd.DataFrame(shapes, index = names)\n",
    "espectro_shapes.describe()"
   ]
  },
  {
   "cell_type": "markdown",
   "metadata": {},
   "source": [
    "# Otros"
   ]
  },
  {
   "cell_type": "code",
   "execution_count": 189,
   "metadata": {},
   "outputs": [
    {
     "data": {
      "text/plain": [
       "MidiFile(type=1, ticks_per_beat=1024, tracks=[\n",
       "  MidiTrack([\n",
       "    MetaMessage('set_tempo', tempo=857143, time=0),\n",
       "    MetaMessage('key_signature', key='C', time=0),\n",
       "    MetaMessage('time_signature', numerator=2, denominator=4, clocks_per_click=24, notated_32nd_notes_per_beat=8, time=0),\n",
       "    MetaMessage('end_of_track', time=0)]),\n",
       "  MidiTrack([\n",
       "    MetaMessage('track_name', name='é\\x92¢ç\\x90´, Piano', time=0),\n",
       "    Message('program_change', channel=0, program=0, time=0),\n",
       "    Message('pitchwheel', channel=0, pitch=0, time=0),\n",
       "    Message('program_change', channel=0, program=0, time=0),\n",
       "    Message('program_change', channel=0, program=0, time=0),\n",
       "    Message('note_on', channel=0, note=65, velocity=80, time=0),\n",
       "    Message('note_off', channel=0, note=65, velocity=0, time=768),\n",
       "    Message('note_on', channel=0, note=62, velocity=80, time=0),\n",
       "    Message('note_off', channel=0, note=62, velocity=0, time=256),\n",
       "    Message('note_on', channel=0, note=60, velocity=80, time=0),\n",
       "    Message('note_off', channel=0, note=60, velocity=0, time=512),\n",
       "    Message('note_on', channel=0, note=60, velocity=80, time=0),\n",
       "    Message('note_off', channel=0, note=60, velocity=0, time=512),\n",
       "    Message('note_on', channel=0, note=62, velocity=80, time=0),\n",
       "    Message('note_off', channel=0, note=62, velocity=0, time=256),\n",
       "    Message('note_on', channel=0, note=60, velocity=80, time=0),\n",
       "    Message('note_off', channel=0, note=60, velocity=0, time=256),\n",
       "    Message('note_on', channel=0, note=57, velocity=80, time=0),\n",
       "    Message('note_off', channel=0, note=57, velocity=0, time=256),\n",
       "    Message('note_on', channel=0, note=55, velocity=80, time=0),\n",
       "    Message('note_off', channel=0, note=55, velocity=0, time=256),\n",
       "    Message('note_on', channel=0, note=53, velocity=80, time=0),\n",
       "    Message('note_off', channel=0, note=53, velocity=0, time=1024),\n",
       "    Message('note_on', channel=0, note=57, velocity=80, time=0),\n",
       "    Message('note_off', channel=0, note=57, velocity=0, time=768),\n",
       "    Message('note_on', channel=0, note=60, velocity=80, time=0),\n",
       "    Message('note_off', channel=0, note=60, velocity=0, time=256),\n",
       "    Message('note_on', channel=0, note=65, velocity=80, time=0),\n",
       "    Message('note_off', channel=0, note=65, velocity=0, time=256),\n",
       "    Message('note_on', channel=0, note=67, velocity=80, time=0),\n",
       "    Message('note_off', channel=0, note=67, velocity=0, time=256),\n",
       "    Message('note_on', channel=0, note=62, velocity=80, time=0),\n",
       "    Message('note_off', channel=0, note=62, velocity=0, time=512),\n",
       "    Message('note_on', channel=0, note=60, velocity=80, time=0),\n",
       "    Message('note_off', channel=0, note=60, velocity=0, time=1024),\n",
       "    Message('note_on', channel=0, note=65, velocity=80, time=0),\n",
       "    Message('note_off', channel=0, note=65, velocity=0, time=256),\n",
       "    Message('note_on', channel=0, note=67, velocity=80, time=0),\n",
       "    Message('note_off', channel=0, note=67, velocity=0, time=256),\n",
       "    Message('note_on', channel=0, note=62, velocity=80, time=0),\n",
       "    Message('note_off', channel=0, note=62, velocity=0, time=256),\n",
       "    Message('note_on', channel=0, note=60, velocity=80, time=0),\n",
       "    Message('note_off', channel=0, note=60, velocity=0, time=256),\n",
       "    Message('note_on', channel=0, note=62, velocity=80, time=0),\n",
       "    Message('note_off', channel=0, note=62, velocity=0, time=768),\n",
       "    Message('note_on', channel=0, note=65, velocity=80, time=0),\n",
       "    Message('note_off', channel=0, note=65, velocity=0, time=256),\n",
       "    Message('note_on', channel=0, note=62, velocity=80, time=0),\n",
       "    Message('note_off', channel=0, note=62, velocity=0, time=512),\n",
       "    Message('note_on', channel=0, note=60, velocity=80, time=0),\n",
       "    Message('note_off', channel=0, note=60, velocity=0, time=256),\n",
       "    Message('note_on', channel=0, note=62, velocity=80, time=0),\n",
       "    Message('note_off', channel=0, note=62, velocity=0, time=256),\n",
       "    Message('note_on', channel=0, note=57, velocity=80, time=0),\n",
       "    Message('note_off', channel=0, note=57, velocity=0, time=1024),\n",
       "    Message('note_on', channel=0, note=60, velocity=80, time=0),\n",
       "    Message('note_off', channel=0, note=60, velocity=0, time=512),\n",
       "    MetaMessage('end_of_track', time=0)])\n",
       "])"
      ]
     },
     "execution_count": 189,
     "metadata": {},
     "output_type": "execute_result"
    }
   ],
   "source": [
    "midi = mido.MidiFile('datos_procesados/midis/trimmed/F04_0300_0001_1_D.mid')\n",
    "midi"
   ]
  },
  {
   "cell_type": "code",
   "execution_count": 181,
   "metadata": {},
   "outputs": [
    {
     "data": {
      "text/plain": [
       "158.0"
      ]
     },
     "execution_count": 181,
     "metadata": {},
     "output_type": "execute_result"
    }
   ],
   "source": [
    "np.ceil(midi.length / L_segs)"
   ]
  },
  {
   "cell_type": "code",
   "execution_count": 190,
   "metadata": {},
   "outputs": [
    {
     "name": "stdout",
     "output_type": "stream",
     "text": [
      "0.4285715\n",
      "0.06329113924050633\n"
     ]
    },
    {
     "data": {
      "text/plain": [
       "[1,\n",
       " 2,\n",
       " 2,\n",
       " 2,\n",
       " 2,\n",
       " 2,\n",
       " 2,\n",
       " 2,\n",
       " 2,\n",
       " 2,\n",
       " 1,\n",
       " 2,\n",
       " 2,\n",
       " 1,\n",
       " 2,\n",
       " 2,\n",
       " 2,\n",
       " 2,\n",
       " 2,\n",
       " 1,\n",
       " 2,\n",
       " 2,\n",
       " 2,\n",
       " 2,\n",
       " 2,\n",
       " 1,\n",
       " 2,\n",
       " 2,\n",
       " 1,\n",
       " 2,\n",
       " 2,\n",
       " 1,\n",
       " 2,\n",
       " 2,\n",
       " 1,\n",
       " 2,\n",
       " 2,\n",
       " 1,\n",
       " 2,\n",
       " 2,\n",
       " 2,\n",
       " 2,\n",
       " 2,\n",
       " 2,\n",
       " 2,\n",
       " 2,\n",
       " 2,\n",
       " 2,\n",
       " 2,\n",
       " 2,\n",
       " 1,\n",
       " 2,\n",
       " 2,\n",
       " 2,\n",
       " 2,\n",
       " 2,\n",
       " 2,\n",
       " 2,\n",
       " 2,\n",
       " 2,\n",
       " 1,\n",
       " 2,\n",
       " 2,\n",
       " 1,\n",
       " 2,\n",
       " 2,\n",
       " 1,\n",
       " 2,\n",
       " 2,\n",
       " 1,\n",
       " 2,\n",
       " 2,\n",
       " 2,\n",
       " 2,\n",
       " 2,\n",
       " 1,\n",
       " 2,\n",
       " 2,\n",
       " 2,\n",
       " 2,\n",
       " 2,\n",
       " 2,\n",
       " 2,\n",
       " 2,\n",
       " 2,\n",
       " 2,\n",
       " 2,\n",
       " 2,\n",
       " 1,\n",
       " 2,\n",
       " 2,\n",
       " 1,\n",
       " 2,\n",
       " 2,\n",
       " 1,\n",
       " 2,\n",
       " 2,\n",
       " 1,\n",
       " 2,\n",
       " 2,\n",
       " 1,\n",
       " 2,\n",
       " 2,\n",
       " 2,\n",
       " 2,\n",
       " 2,\n",
       " 2,\n",
       " 2,\n",
       " 2,\n",
       " 2,\n",
       " 1,\n",
       " 2,\n",
       " 2,\n",
       " 1,\n",
       " 2,\n",
       " 2,\n",
       " 2,\n",
       " 2,\n",
       " 2,\n",
       " 1,\n",
       " 2,\n",
       " 2,\n",
       " 1,\n",
       " 2,\n",
       " 2,\n",
       " 1,\n",
       " 2,\n",
       " 2,\n",
       " 2,\n",
       " 2,\n",
       " 2,\n",
       " 2,\n",
       " 2,\n",
       " 2,\n",
       " 2,\n",
       " 2,\n",
       " 2,\n",
       " 2,\n",
       " 1,\n",
       " 2,\n",
       " 2,\n",
       " 2,\n",
       " 2,\n",
       " 2]"
      ]
     },
     "execution_count": 190,
     "metadata": {},
     "output_type": "execute_result"
    }
   ],
   "source": [
    "tick_nota = 512\n",
    "print(mido.tick2second(tick_nota,1024,857143))\n",
    "\n",
    "L_segs = lowest_time/2\n",
    "N = int( np.ceil(midi.length / L_segs) )\n",
    "midi2vec(midi, N=N, T=10)"
   ]
  },
  {
   "cell_type": "code",
   "execution_count": 191,
   "metadata": {},
   "outputs": [
    {
     "name": "stdout",
     "output_type": "stream",
     "text": [
      "0.06329113924050633\n"
     ]
    },
    {
     "data": {
      "text/plain": [
       "144"
      ]
     },
     "execution_count": 191,
     "metadata": {},
     "output_type": "execute_result"
    }
   ],
   "source": [
    "len(midi2vec(midi, N=N, T=10))"
   ]
  },
  {
   "cell_type": "code",
   "execution_count": 157,
   "metadata": {},
   "outputs": [
    {
     "data": {
      "text/plain": [
       "0.4375"
      ]
     },
     "execution_count": 157,
     "metadata": {},
     "output_type": "execute_result"
    }
   ],
   "source": [
    "(6)*L_segs +  L_segs"
   ]
  },
  {
   "cell_type": "code",
   "execution_count": 143,
   "metadata": {},
   "outputs": [
    {
     "data": {
      "text/plain": [
       "array([0.    , 0.0625, 0.125 , 0.1875, 0.25  , 0.3125, 0.375 , 0.4375,\n",
       "       0.5   , 0.5625, 0.625 , 0.6875, 0.75  , 0.8125, 0.875 , 0.9375,\n",
       "       1.    , 1.0625, 1.125 , 1.1875, 1.25  , 1.3125, 1.375 , 1.4375,\n",
       "       1.5   , 1.5625, 1.625 , 1.6875, 1.75  , 1.8125, 1.875 , 1.9375,\n",
       "       2.    , 2.0625, 2.125 , 2.1875, 2.25  , 2.3125, 2.375 , 2.4375,\n",
       "       2.5   , 2.5625, 2.625 , 2.6875, 2.75  , 2.8125, 2.875 , 2.9375,\n",
       "       3.    , 3.0625, 3.125 , 3.1875, 3.25  , 3.3125, 3.375 , 3.4375,\n",
       "       3.5   , 3.5625, 3.625 , 3.6875, 3.75  , 3.8125, 3.875 , 3.9375,\n",
       "       4.    , 4.0625, 4.125 , 4.1875, 4.25  , 4.3125, 4.375 , 4.4375,\n",
       "       4.5   , 4.5625, 4.625 , 4.6875, 4.75  , 4.8125, 4.875 , 4.9375,\n",
       "       5.    , 5.0625, 5.125 , 5.1875, 5.25  , 5.3125, 5.375 , 5.4375,\n",
       "       5.5   , 5.5625, 5.625 , 5.6875, 5.75  , 5.8125, 5.875 , 5.9375,\n",
       "       6.    , 6.0625, 6.125 , 6.1875, 6.25  , 6.3125, 6.375 , 6.4375,\n",
       "       6.5   , 6.5625, 6.625 , 6.6875, 6.75  , 6.8125, 6.875 , 6.9375,\n",
       "       7.    , 7.0625, 7.125 , 7.1875, 7.25  , 7.3125, 7.375 , 7.4375,\n",
       "       7.5   , 7.5625, 7.625 , 7.6875, 7.75  , 7.8125, 7.875 , 7.9375,\n",
       "       8.    , 8.0625, 8.125 , 8.1875, 8.25  , 8.3125, 8.375 , 8.4375,\n",
       "       8.5   , 8.5625, 8.625 , 8.6875, 8.75  , 8.8125, 8.875 , 8.9375,\n",
       "       9.    , 9.0625])"
      ]
     },
     "execution_count": 143,
     "metadata": {},
     "output_type": "execute_result"
    }
   ],
   "source": [
    "np.linspace(0, 10, 160+1)[:146]"
   ]
  },
  {
   "cell_type": "code",
   "execution_count": null,
   "metadata": {},
   "outputs": [],
   "source": []
  }
 ],
 "metadata": {
  "kernelspec": {
   "display_name": "Python 3",
   "language": "python",
   "name": "python3"
  },
  "language_info": {
   "codemirror_mode": {
    "name": "ipython",
    "version": 3
   },
   "file_extension": ".py",
   "mimetype": "text/x-python",
   "name": "python",
   "nbconvert_exporter": "python",
   "pygments_lexer": "ipython3",
   "version": "3.11.5"
  }
 },
 "nbformat": 4,
 "nbformat_minor": 2
}
