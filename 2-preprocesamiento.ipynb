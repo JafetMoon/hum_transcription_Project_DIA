{
 "cells": [
  {
   "cell_type": "code",
   "execution_count": 1,
   "metadata": {},
   "outputs": [],
   "source": [
    "import os\n",
    "import mido\n",
    "import utils ##\n",
    "import librosa\n",
    "import numpy as np\n",
    "import pandas as pd\n",
    "import matplotlib.pyplot as plt\n",
    "import matplotlib.cm as cm\n",
    "import matplotlib.colors as mcolors"
   ]
  },
  {
   "cell_type": "markdown",
   "metadata": {},
   "source": [
    "Datos preprocesados:\n",
    "https://drive.google.com/drive/folders/1jzfK-VM_Qb76K31Y7iMpsi1JeQ7QqU5W?usp=sharing"
   ]
  },
  {
   "cell_type": "markdown",
   "metadata": {},
   "source": [
    "# Importar Datos"
   ]
  },
  {
   "cell_type": "code",
   "execution_count": 2,
   "metadata": {},
   "outputs": [],
   "source": [
    "df_midis_info = pd.read_csv('datos_procesados/midis/midis_info.csv', index_col=0)\n",
    "df_midis_notas = pd.read_csv('datos_procesados/midis/midis_notas.csv', index_col=0)"
   ]
  },
  {
   "cell_type": "code",
   "execution_count": 3,
   "metadata": {},
   "outputs": [],
   "source": [
    "# Tipos de MIDI\n",
    "df_non_standard = pd.read_csv('datos_procesados/midis/tipos/no_estandar.csv', index_col=0)\n",
    "df_standard = pd.read_csv('datos_procesados/midis/tipos/estandar.csv', index_col=0)"
   ]
  },
  {
   "cell_type": "code",
   "execution_count": 4,
   "metadata": {},
   "outputs": [],
   "source": [
    "# Usar los audios con expresión MIDI estándar\n",
    "df_midi = df_standard.merge(df_midis_info, how='left', left_index=True, right_index=True)\n",
    "df_midi = df_midi.drop(columns=['problem?'])\n",
    "df_midi = df_midi.rename({'velocity':'velocity_start'}, axis=1)\n",
    "\n",
    "df_notas = df_midis_notas.loc[df_midi.index]"
   ]
  },
  {
   "cell_type": "markdown",
   "metadata": {},
   "source": [
    "# MIDIS"
   ]
  },
  {
   "cell_type": "code",
   "execution_count": 5,
   "metadata": {},
   "outputs": [
    {
     "name": "stdout",
     "output_type": "stream",
     "text": [
      "0.125 s\n"
     ]
    }
   ],
   "source": [
    "lowest_time = df_midi.min_time.min()\n",
    "print(lowest_time, 's')"
   ]
  },
  {
   "cell_type": "markdown",
   "metadata": {},
   "source": [
    "### Filtrar frecuencias\n",
    "Sólo se conservan aquellas que son alcanzables por una voz humana"
   ]
  },
  {
   "cell_type": "code",
   "execution_count": 6,
   "metadata": {},
   "outputs": [],
   "source": [
    "### Filtra notas que no son ejecutadas\n",
    "notas_mask = (df_notas.sum() > 0)\n",
    "notas_ejecutadas = notas_mask[notas_mask]\n",
    "\n",
    "# Transforma en DataFrame\n",
    "notas_ejecutadas = notas_ejecutadas.index.str.extract('(^\\d+) \\((\\w#?\\d)\\)') # Separa la clave MIDI del Cifrado\n",
    "notas_ejecutadas = notas_ejecutadas.rename({0:'midi-ET', 1: 'cifrado'}, axis=1) # Renombrar\n",
    "notas_ejecutadas['midi-ET'] = notas_ejecutadas['midi-ET'].astype(int) # Regresar a numérico\n",
    "notas_ejecutadas['herts-ET'] = utils.preprocess.nota_a_frequencia(notas_ejecutadas['midi-ET']) # Convertir a frecuencia"
   ]
  },
  {
   "cell_type": "code",
   "execution_count": 7,
   "metadata": {},
   "outputs": [
    {
     "name": "stdout",
     "output_type": "stream",
     "text": [
      "Rango de frecuencias utilizable (Hz): (18.0, 1167.0)\n"
     ]
    }
   ],
   "source": [
    "# Calcular cotas de filtrado\n",
    "hz_std = notas_ejecutadas['herts-ET'].std() \n",
    "\n",
    "hz_lb = np.floor( notas_ejecutadas['herts-ET'].min() * (1-0.5) )\n",
    "hz_ub = np.ceil( notas_ejecutadas['herts-ET'].max() + 0.5*hz_std )\n",
    "\n",
    "print(f'Rango de frecuencias utilizable (Hz): ({hz_lb}, {hz_ub})')"
   ]
  },
  {
   "cell_type": "markdown",
   "metadata": {},
   "source": [
    "### Reducción dimensión de tiempo\n",
    "\n",
    "La reducción se realiza a un tiempo $T$ siguiendo los siguientes pasos para garantizar la integridad de las notas:\n",
    "\n",
    "- Recortar tiempo muerto al inicio del MIDI\n",
    "- Encontrar el punto de corte en $T$ del MIDI\n",
    "- Verificar si hay una nota sonando\n",
    "- Eliminar la nota sonando\n",
    "- Capturar el tiempo $t_f$ en la que termina la última nota ($t_f \\leq 10$)"
   ]
  },
  {
   "cell_type": "code",
   "execution_count": 23,
   "metadata": {},
   "outputs": [],
   "source": [
    "def procesar_midis(midi_names, output_folder, T):\n",
    "    \"\"\"\n",
    "    Aplica las funciones de recorte de desfase de tiempo inicial (lstrip) y ajuste a T segundos \n",
    "    a todos los archivos MIDI en una carpeta.\n",
    "    \n",
    "    Parámetros:\n",
    "        midi_names (Series): Nombres de los MIDI a convertir.\n",
    "        output_folder (str): Carpeta de destino para guardar los archivos MIDI procesados.\n",
    "        T (float): Duración máxima en segundos para los archivos MIDI procesados.\n",
    "    \"\"\"\n",
    "    # Revisar carpeta de salida\n",
    "    os.makedirs(output_folder, exist_ok=True)\n",
    "    # Definir carpeta de MIDIs\n",
    "    input_folder = 'datos/MIDIs/midi_data/'\n",
    "\n",
    "    \n",
    "    for midi_name in midi_names:\n",
    "        midi_path = os.path.join(input_folder, midi_name + '.mid')\n",
    "        mid = mido.MidiFile(midi_path)\n",
    "        \n",
    "        # Recortar tiempo muerto\n",
    "        mid = utils.midi.lstrip(mid)\n",
    "        \n",
    "        # Recortar duración a T segundos\n",
    "        tempo = df_midi['tempo_ms'].loc[midi_name]\n",
    "        mid = utils.midi.trim(mid, tempo, T)\n",
    "        \n",
    "        # Guardar el archivo MIDI procesado\n",
    "        output_path = os.path.join(output_folder, midi_name + '.mid')\n",
    "        mid.save(output_path)\n"
   ]
  },
  {
   "cell_type": "code",
   "execution_count": 24,
   "metadata": {},
   "outputs": [],
   "source": [
    "procesar_midis(midi_names=df_midi.index,\n",
    "               output_folder='datos_procesados/midis/trimmed/',\n",
    "               T=10)"
   ]
  },
  {
   "cell_type": "markdown",
   "metadata": {},
   "source": [
    "# Tarareos\n"
   ]
  },
  {
   "cell_type": "code",
   "execution_count": 1,
   "metadata": {},
   "outputs": [],
   "source": [
    "import utils"
   ]
  },
  {
   "cell_type": "code",
   "execution_count": 2,
   "metadata": {},
   "outputs": [
    {
     "data": {
      "text/plain": [
       "<module 'utils' from 'c:\\\\Users\\\\Jafet Velásquez Luna\\\\Documents\\\\Cursos\\\\Dip - IA Aplicada\\\\Proyecto Final\\\\hum_transcription_Project_DIA\\\\utils\\\\__init__.py'>"
      ]
     },
     "execution_count": 2,
     "metadata": {},
     "output_type": "execute_result"
    }
   ],
   "source": [
    "import importlib\n",
    "importlib.reload(utils)"
   ]
  },
  {
   "cell_type": "code",
   "execution_count": 3,
   "metadata": {},
   "outputs": [],
   "source": [
    "path = 'datos/Tarareos/test/'\n",
    "# Duración de la ventana en milisegundos\n",
    "L = 55  # por ejemplo, 500 milisegundos\n",
    "\n",
    "# Procesar los archivos de audio y generar los espectrogramas\n",
    "spectro = utils.tarareos.process_audio_files(path, L)"
   ]
  },
  {
   "cell_type": "markdown",
   "metadata": {},
   "source": [
    "# Otros"
   ]
  },
  {
   "cell_type": "code",
   "execution_count": null,
   "metadata": {},
   "outputs": [],
   "source": []
  },
  {
   "cell_type": "code",
   "execution_count": 17,
   "metadata": {},
   "outputs": [
    {
     "data": {
      "text/plain": [
       "MidiFile(type=1, ticks_per_beat=1024, tracks=[\n",
       "  MidiTrack([\n",
       "    MetaMessage('set_tempo', tempo=857143, time=0),\n",
       "    MetaMessage('key_signature', key='C', time=0),\n",
       "    MetaMessage('time_signature', numerator=2, denominator=4, clocks_per_click=24, notated_32nd_notes_per_beat=8, time=0),\n",
       "    MetaMessage('end_of_track', time=1024)]),\n",
       "  MidiTrack([\n",
       "    MetaMessage('track_name', name='é\\x92¢ç\\x90´, Piano', time=0),\n",
       "    Message('program_change', channel=0, program=0, time=0),\n",
       "    Message('pitchwheel', channel=0, pitch=0, time=0),\n",
       "    Message('program_change', channel=0, program=0, time=0),\n",
       "    Message('program_change', channel=0, program=0, time=0),\n",
       "    Message('note_on', channel=0, note=65, velocity=80, time=0),\n",
       "    Message('note_off', channel=0, note=65, velocity=0, time=768),\n",
       "    Message('note_on', channel=0, note=62, velocity=80, time=0),\n",
       "    Message('note_off', channel=0, note=62, velocity=0, time=256),\n",
       "    Message('note_on', channel=0, note=60, velocity=80, time=0),\n",
       "    Message('note_off', channel=0, note=60, velocity=0, time=512),\n",
       "    Message('note_on', channel=0, note=60, velocity=80, time=0),\n",
       "    Message('note_off', channel=0, note=60, velocity=0, time=512),\n",
       "    Message('note_on', channel=0, note=62, velocity=80, time=0),\n",
       "    Message('note_off', channel=0, note=62, velocity=0, time=256),\n",
       "    Message('note_on', channel=0, note=60, velocity=80, time=0),\n",
       "    Message('note_off', channel=0, note=60, velocity=0, time=256),\n",
       "    Message('note_on', channel=0, note=57, velocity=80, time=0),\n",
       "    Message('note_off', channel=0, note=57, velocity=0, time=256),\n",
       "    Message('note_on', channel=0, note=55, velocity=80, time=0),\n",
       "    Message('note_off', channel=0, note=55, velocity=0, time=256),\n",
       "    Message('note_on', channel=0, note=53, velocity=80, time=0),\n",
       "    Message('note_off', channel=0, note=53, velocity=0, time=1024),\n",
       "    Message('note_on', channel=0, note=57, velocity=80, time=0),\n",
       "    Message('note_off', channel=0, note=57, velocity=0, time=768),\n",
       "    Message('note_on', channel=0, note=60, velocity=80, time=0),\n",
       "    Message('note_off', channel=0, note=60, velocity=0, time=256),\n",
       "    Message('note_on', channel=0, note=65, velocity=80, time=0),\n",
       "    Message('note_off', channel=0, note=65, velocity=0, time=256),\n",
       "    Message('note_on', channel=0, note=67, velocity=80, time=0),\n",
       "    Message('note_off', channel=0, note=67, velocity=0, time=256),\n",
       "    Message('note_on', channel=0, note=62, velocity=80, time=0),\n",
       "    Message('note_off', channel=0, note=62, velocity=0, time=512),\n",
       "    Message('note_on', channel=0, note=60, velocity=80, time=0),\n",
       "    Message('note_off', channel=0, note=60, velocity=0, time=1024),\n",
       "    Message('note_on', channel=0, note=65, velocity=80, time=1024),\n",
       "    Message('note_off', channel=0, note=65, velocity=0, time=256),\n",
       "    Message('note_on', channel=0, note=67, velocity=80, time=0),\n",
       "    Message('note_off', channel=0, note=67, velocity=0, time=256),\n",
       "    Message('note_on', channel=0, note=62, velocity=80, time=0),\n",
       "    Message('note_off', channel=0, note=62, velocity=0, time=256),\n",
       "    Message('note_on', channel=0, note=60, velocity=80, time=0),\n",
       "    Message('note_off', channel=0, note=60, velocity=0, time=256),\n",
       "    Message('note_on', channel=0, note=62, velocity=80, time=0),\n",
       "    Message('note_off', channel=0, note=62, velocity=0, time=768),\n",
       "    Message('note_on', channel=0, note=65, velocity=80, time=0),\n",
       "    Message('note_off', channel=0, note=65, velocity=0, time=256),\n",
       "    Message('note_on', channel=0, note=62, velocity=80, time=0),\n",
       "    Message('note_off', channel=0, note=62, velocity=0, time=512),\n",
       "    Message('note_on', channel=0, note=60, velocity=80, time=0),\n",
       "    Message('note_off', channel=0, note=60, velocity=0, time=256),\n",
       "    Message('note_on', channel=0, note=62, velocity=80, time=0),\n",
       "    Message('note_off', channel=0, note=62, velocity=0, time=256),\n",
       "    Message('note_on', channel=0, note=57, velocity=80, time=0),\n",
       "    Message('note_off', channel=0, note=57, velocity=0, time=1024),\n",
       "    Message('note_on', channel=0, note=60, velocity=80, time=0),\n",
       "    Message('note_off', channel=0, note=60, velocity=0, time=512),\n",
       "    Message('note_on', channel=0, note=60, velocity=80, time=0),\n",
       "    Message('note_off', channel=0, note=60, velocity=0, time=256),\n",
       "    Message('note_on', channel=0, note=62, velocity=80, time=0),\n",
       "    Message('note_off', channel=0, note=62, velocity=0, time=256),\n",
       "    Message('note_on', channel=0, note=60, velocity=80, time=0),\n",
       "    Message('note_off', channel=0, note=60, velocity=0, time=256),\n",
       "    Message('note_on', channel=0, note=57, velocity=80, time=0),\n",
       "    Message('note_off', channel=0, note=57, velocity=0, time=256),\n",
       "    Message('note_on', channel=0, note=57, velocity=80, time=0),\n",
       "    Message('note_off', channel=0, note=57, velocity=0, time=256),\n",
       "    Message('note_on', channel=0, note=55, velocity=80, time=0),\n",
       "    Message('note_off', channel=0, note=55, velocity=0, time=256),\n",
       "    Message('note_on', channel=0, note=55, velocity=80, time=0),\n",
       "    Message('note_off', channel=0, note=55, velocity=0, time=1536),\n",
       "    MetaMessage('end_of_track', time=1024)])\n",
       "])"
      ]
     },
     "execution_count": 17,
     "metadata": {},
     "output_type": "execute_result"
    }
   ],
   "source": [
    "midi = mido.MidiFile('Datos/MIDIs/midi_data/F04_0300_0001_1_D.mid')\n",
    "midi"
   ]
  },
  {
   "cell_type": "code",
   "execution_count": null,
   "metadata": {},
   "outputs": [],
   "source": []
  }
 ],
 "metadata": {
  "kernelspec": {
   "display_name": "Python 3",
   "language": "python",
   "name": "python3"
  },
  "language_info": {
   "codemirror_mode": {
    "name": "ipython",
    "version": 3
   },
   "file_extension": ".py",
   "mimetype": "text/x-python",
   "name": "python",
   "nbconvert_exporter": "python",
   "pygments_lexer": "ipython3",
   "version": "3.11.5"
  }
 },
 "nbformat": 4,
 "nbformat_minor": 2
}
