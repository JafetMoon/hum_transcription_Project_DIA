{
 "cells": [
  {
   "cell_type": "code",
   "execution_count": 7,
   "metadata": {},
   "outputs": [],
   "source": [
    "import os\n",
    "import mido\n",
    "import utils ##\n",
    "import librosa\n",
    "import numpy as np\n",
    "import pandas as pd\n",
    "import matplotlib.pyplot as plt\n",
    "import matplotlib.cm as cm\n",
    "import matplotlib.colors as mcolors\n",
    "\n",
    "import torch\n",
    "from torch.utils.data import DataLoader"
   ]
  },
  {
   "cell_type": "markdown",
   "metadata": {},
   "source": [
    "## Importar Datos"
   ]
  },
  {
   "cell_type": "code",
   "execution_count": 13,
   "metadata": {},
   "outputs": [],
   "source": [
    "df_audios = pd.read_csv('datos_procesados/valid_samples.csv', index_col=0)\n",
    "audio_names = list(df_audios.index)"
   ]
  },
  {
   "cell_type": "markdown",
   "metadata": {},
   "source": [
    "## Dataset"
   ]
  },
  {
   "cell_type": "markdown",
   "metadata": {},
   "source": [
    "- Definición del objeto Dataset para importar los datos"
   ]
  },
  {
   "cell_type": "code",
   "execution_count": 46,
   "metadata": {},
   "outputs": [],
   "source": [
    "class TarareoMIDIDataset(torch.utils.data.Dataset):\n",
    "    def __init__(self, tarareo_directory: str, midi_directory: str, samples: list, extensions: tuple[str, str]):\n",
    "        self._tarareo_directory = tarareo_directory\n",
    "        self._midi_directory = midi_directory\n",
    "        \n",
    "        self._samples = samples #  Nombre del elemento de grabación\n",
    "        self._extensions = extensions #  extension del nombre del tarareo y vector midi. Ejm audio_name[extension] (incluye formato)\n",
    "\n",
    "        # Si usamos PADDING, será conveniente tener un vocabulario como si se tratara de una traducción en NLP\n",
    "        # Esto ayuda a ordenar las etiquetas por orden de frecuencia\n",
    "        # Colocando en las primeras casillas a las etiquetas de inicio y final\n",
    "        # self._vocabulary = vocabulary\n",
    "\n",
    "\n",
    "    def __len__(self):\n",
    "        return len(self._samples)\n",
    "\n",
    "    def __getitem__(self, idx):\n",
    "        # Recuperar nombre de la muestra\n",
    "        file_name = self._samples[idx]\n",
    "        tarareo_name = file_name + self._extensions[0]\n",
    "        midi_name = file_name + self._extensions[1]\n",
    "\n",
    "        # Importar\n",
    "        tarareo_path = os.path.join(self._tarareo_directory, tarareo_name)\n",
    "        tarareo = np.load(tarareo_path)\n",
    "\n",
    "        midi_path = os.path.join(self._midi_directory, midi_name)\n",
    "        midi = np.load(midi_path)\n",
    "\n",
    "        # Agregar <SOS> y <EOS> ?\n",
    "        return torch.tensor(tarareo, dtype=torch.float32), torch.tensor(midi, dtype=torch.int)"
   ]
  },
  {
   "cell_type": "markdown",
   "metadata": {},
   "source": [
    "- Definición de `collate_fn` para crear batches y homologar las dimensiones de audios de distinta duración."
   ]
  },
  {
   "cell_type": "code",
   "execution_count": 45,
   "metadata": {},
   "outputs": [],
   "source": [
    "def audio_vector_collate_fn(batch: list[tuple[torch.Tensor, torch.Tensor]]) -> tuple[torch.Tensor, torch.Tensor]:\n",
    "    \"\"\"Función para agregar padding a los audios y vectores de etiquetas por lote.\n",
    "\n",
    "    :param batch: Una lista de tuplas donde cada tupla contiene un audio y su vector de etiquetas.\n",
    "    :return: Una tupla que contiene dos tensores:\n",
    "             1) Un tensor que contiene todos los audios del lote, apilados juntos. Forma: [batch_size, L_max, N_max].\n",
    "             2) Un tensor que contiene todos los vectores de etiquetas del lote, rellenados con zeros para que tengan la misma longitud. \n",
    "                Forma: [batch_size, K_max].\n",
    "    \"\"\"\n",
    "    audios, labels = zip(*batch)\n",
    "    \n",
    "    # Determinar las dimensiones máximas\n",
    "    L_max = max(audio.size(0) for audio in audios)\n",
    "    N_max = max(audio.size(1) for audio in audios)\n",
    "    K_max = max(label.size(0) for label in labels)\n",
    "    \n",
    "    # Inicializar los tensores con padding\n",
    "    padded_audios = torch.zeros(len(audios), L_max, N_max, dtype=torch.float32)\n",
    "    padded_labels = torch.zeros(len(labels), K_max, dtype=torch.int64)\n",
    "    \n",
    "    for i, (audio, label) in enumerate(batch):\n",
    "        L = audio.size(0)\n",
    "        N = audio.size(1)\n",
    "        K = label.size(0)\n",
    "        \n",
    "        # Copiar el audio y el vector de etiquetas a los tensores con padding\n",
    "        padded_audios[i, :L, :N] = audio\n",
    "        padded_labels[i, :K] = label\n",
    "    \n",
    "    return padded_audios, padded_labels"
   ]
  },
  {
   "cell_type": "markdown",
   "metadata": {},
   "source": [
    "## Separación de conjuntos"
   ]
  },
  {
   "cell_type": "code",
   "execution_count": 72,
   "metadata": {},
   "outputs": [],
   "source": [
    "tarareo_directory = \"datos_procesados/tarareos/ventanas/\"\n",
    "midi_directory = 'datos_procesados/midis/target_vectors/'\n",
    "extensions = ('_frames.npy', '_target.npy')\n",
    "dataset = TarareoMIDIDataset(tarareo_directory=tarareo_directory, midi_directory=midi_directory, samples=audio_names, extensions=extensions)"
   ]
  },
  {
   "cell_type": "code",
   "execution_count": 73,
   "metadata": {},
   "outputs": [],
   "source": [
    "props = [0.7, 0.2, 0.1]\n",
    "train_size = int(props[0] * len(dataset))\n",
    "val_size = int(props[1] * len(dataset))\n",
    "test_size = len(dataset) - train_size - val_size\n",
    "train_dataset, val_dataset, test_dataset = torch.utils.data.random_split(dataset, props) # [train_size, val_size, test_size]"
   ]
  },
  {
   "cell_type": "code",
   "execution_count": 74,
   "metadata": {},
   "outputs": [],
   "source": [
    "batch_size = 32\n",
    "train_loader = DataLoader(train_dataset, batch_size=batch_size, shuffle=True, num_workers=0, collate_fn=audio_vector_collate_fn)\n",
    "val_loader = DataLoader(val_dataset, batch_size=batch_size, shuffle=False, num_workers=0, collate_fn=audio_vector_collate_fn)\n",
    "test_loader = DataLoader(test_dataset, batch_size=batch_size, shuffle=False, num_workers=0, collate_fn=audio_vector_collate_fn)"
   ]
  },
  {
   "cell_type": "markdown",
   "metadata": {},
   "source": [
    "## NEXT"
   ]
  },
  {
   "cell_type": "code",
   "execution_count": 172,
   "metadata": {},
   "outputs": [],
   "source": [
    "def convout_calc(input_dim, kernel, stride, dilation=1):\n",
    "    new_dim = np.floor((input_dim - 1 - dilation*(kernel-1)) / stride + 1)\n",
    "    return int(new_dim)"
   ]
  },
  {
   "cell_type": "code",
   "execution_count": null,
   "metadata": {},
   "outputs": [],
   "source": [
    "class ConvSeq2Seq(torch.nn.Module):\n",
    "    def __init__(self, input_dim, output_dim, hidden_dim): #conv_out_channels, conv_kernel, pool_kernel,\n",
    "        super(ConvSeq2Seq, self).__init__()\n",
    "        self._input_dim = input_dim\n",
    "        self._output_dim = output_dim\n",
    "        self._hidden_dim = hidden_dim\n",
    "\n",
    "        ##### Capa Conv1D\n",
    "        self.conv2d = torch.nn.Conv2d(in_channels=1, \n",
    "                                out_channels=1, \n",
    "                                kernel_size=(int(1378//16),4), # L=1378 muestras/ventana (//16 = 86) | conv_kernel\n",
    "                                stride=(1, 1))\n",
    "        # Calcular dimensiones de salida si se quiere usar conv_kernel como un parámetro        \n",
    "        self.conv2_H_dim = convout_calc(input_dim, kernel=int(1378//16), stride=1)\n",
    "\n",
    "        ##### Capa MaxPooling\n",
    "        self.MaxPool2d = torch.nnnn.MaxPool2d(kernel_size=(int(86//4),2)) # (86//4 = 21) | pool_kernel\n",
    "        # Calcular dimensiones de salida si se quiere usar pool_kernel como un parámetro \n",
    "        self.pool_H_dim = convout_calc(self.conv2_H_dim, kernel=int(86//4), stride=int(86//4))\n",
    "        \n",
    "        ###### Capa de Flatten\n",
    "        # self.flatten = nn.Flatten()\n",
    "\n",
    "        ##### Encoder LSTM\n",
    "        self.encoder_lstm = torch.nn.LSTM(input_size=self.pool_H_dim,  # Se ajusta para el tamaño de las ventanas y strides\n",
    "                                    hidden_size=hidden_dim,\n",
    "                                    batch_first=True)\n",
    "        \n",
    "        # Decoder LSTM\n",
    "        self.decoder_lstm = torch.nn.LSTM(input_size=hidden_dim,\n",
    "                                    hidden_size=hidden_dim,\n",
    "                                    batch_first=True)\n",
    "\n",
    "        # Capa fully connected\n",
    "        self.fc = torch.nn.Linear(hidden_dim, output_dim)\n",
    "        \n",
    "    def forward(self, x, target_len):\n",
    "        # Conv1D\n",
    "        conv_out = self.conv2d(x)\n",
    "\n",
    "        # Conv1D\n",
    "        pool_out = self.conv2d(conv_out)\n",
    "        pool_out = pool_out.squeeze(1) # Elimina el canal muletilla de Conv\n",
    "        pool_out_t = pool_out.transpose(1,2) # Transpone para ajustarse a las dim de LSTM input\n",
    "\n",
    "        # # Flatten\n",
    "        # flattened = self.flatten(conv_out)\n",
    "        \n",
    "\n",
    "        # Encoder LSTM\n",
    "        encoder_outputs, (hidden, cell) = self.encoder_lstm(pool_out_t)\n",
    "\n",
    "        # Decoder LSTM\n",
    "        batch_size = x.size(0)\n",
    "        decoder_input = torch.zeros((batch_size, 1, self._hidden_dim.size(2))) # Inicializar con ceros\n",
    "        \n",
    "        decoder_outputs = []\n",
    "        for t in range(target_len):\n",
    "            output, (hidden, cell) = self.decoder_lstm(decoder_input, (hidden, cell))\n",
    "            output = self.fc(output)\n",
    "            decoder_outputs.append(output)\n",
    "            decoder_input = output\n",
    "        \n",
    "        return decoder_outputs #torch.stack(decoder_outputs, dim=1).squeeze(2)\n",
    "\n",
    "# Ejemplo de uso\n",
    "input_dim = 64  # Ejemplo, dimensión de entrada\n",
    "output_dim = 3  # Predicción de etiquetas 0, 1, 2\n",
    "conv_out_channels = 32\n",
    "lstm_hidden_dim = 128\n",
    "lstm_layers = 2\n",
    "batch_size = 10\n",
    "seq_len = 100  # Ejemplo de longitud de secuencia\n",
    "\n",
    "model = ConvSeq2Seq(input_dim, output_dim, conv_out_channels, lstm_hidden_dim, lstm_layers)\n",
    "\n",
    "# Datos de ejemplo\n",
    "input_data = torch.randn(batch_size, input_dim, seq_len)\n",
    "target_len = 30  # Ejemplo de longitud de secuencia de salida\n",
    "\n",
    "output = model(input_data, target_len)\n",
    "print(output.shape)  # Esperado: (batch_size, target_len, output_dim)\n"
   ]
  },
  {
   "cell_type": "code",
   "execution_count": null,
   "metadata": {},
   "outputs": [],
   "source": []
  },
  {
   "cell_type": "code",
   "execution_count": null,
   "metadata": {},
   "outputs": [],
   "source": [
    "# Función de entrenamiento\n",
    "def train_seq2seq(model, train_loader, val_loader, criterion, optimizer, num_epochs=20):\n",
    "    for epoch in range(num_epochs):\n",
    "        model.train()\n",
    "        train_loss = 0\n",
    "        for src, trg in train_loader:\n",
    "            src, trg = src.unsqueeze(1), trg  # Añadir dimensión de canal\n",
    "            optimizer.zero_grad()\n",
    "            output = model(src, trg)\n",
    "            output = output[:, 1:].reshape(-1, output.shape[-1])\n",
    "            trg = trg[:, 1:].reshape(-1)\n",
    "            loss = criterion(output, trg)\n",
    "            loss.backward()\n",
    "            optimizer.step()\n",
    "            train_loss += loss.item()\n",
    "        \n",
    "        train_loss /= len(train_loader)\n",
    "        val_loss = evaluate_seq2seq(model, val_loader, criterion)\n",
    "        print(f'Epoch {epoch+1}/{num_epochs}, Train Loss: {train_loss:.4f}, Val Loss: {val_loss:.4f}')\n",
    "\n",
    "# Función de evaluación\n",
    "def evaluate_seq2seq(model, val_loader, criterion):\n",
    "    model.eval()\n",
    "    val_loss = 0\n",
    "    with torch.no_grad():\n",
    "        for src, trg in val_loader:\n",
    "            src, trg = src.unsqueeze(1), trg  # Añadir dimensión de canal\n",
    "            output = model(src, trg, 0)  # No usar teacher forcing durante la evaluación\n",
    "            output = output[:, 1:].reshape(-1, output.shape[-1])\n",
    "            trg = trg[:, 1:].reshape(-1)\n",
    "            loss = criterion(output, trg)\n",
    "            val_loss += loss.item()\n",
    "    return val_loss / len(val_loader)\n",
    "\n",
    "# Configuración de optimizador y función de pérdida\n",
    "criterion = torch.nn.CrossEntropyLoss(ignore_index=0)  # Ignorar el padding\n",
    "optimizer = torch.optim.Adam(model.parameters(), lr=0.001)\n",
    "\n",
    "# Entrenar el modelo\n",
    "train_seq2seq(model, train_loader, val_loader, criterion, optimizer, num_epochs=20)\n"
   ]
  },
  {
   "cell_type": "code",
   "execution_count": null,
   "metadata": {},
   "outputs": [],
   "source": []
  }
 ],
 "metadata": {
  "kernelspec": {
   "display_name": "Python 3",
   "language": "python",
   "name": "python3"
  },
  "language_info": {
   "codemirror_mode": {
    "name": "ipython",
    "version": 3
   },
   "file_extension": ".py",
   "mimetype": "text/x-python",
   "name": "python",
   "nbconvert_exporter": "python",
   "pygments_lexer": "ipython3",
   "version": "3.11.5"
  }
 },
 "nbformat": 4,
 "nbformat_minor": 2
}
